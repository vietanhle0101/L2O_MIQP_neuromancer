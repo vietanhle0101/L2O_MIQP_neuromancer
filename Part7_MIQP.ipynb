{
 "cells": [
  {
   "cell_type": "code",
   "execution_count": 1,
   "metadata": {},
   "outputs": [],
   "source": [
    "import torch\n",
    "import torch.nn as nn\n",
    "import numpy as np\n",
    "import cvxpy as cp\n",
    "from cvxpylayers.torch import CvxpyLayer\n",
    "\n",
    "# plotting\n",
    "import matplotlib.pyplot as plt\n",
    "import matplotlib.patheffects as patheffects\n",
    "\n",
    "# neuromancer\n",
    "from neuromancer.trainer import Trainer\n",
    "from neuromancer.problem import Problem\n",
    "from neuromancer.constraint import variable\n",
    "from neuromancer.dataset import DictDataset\n",
    "from neuromancer.loss import PenaltyLoss\n",
    "from neuromancer.modules import blocks\n",
    "from neuromancer.system import Node"
   ]
  },
  {
   "cell_type": "markdown",
   "metadata": {},
   "source": [
    "# Problem Formulation\n",
    "\n",
    "We solve the following MIQP problem:\n",
    "$$\n",
    "\\begin{align}\n",
    "&\\text{minimize } && \\mathbf{x}^T \\mathbf{x} + \\mathbf{p}^T \\mathbf{x} \\\\\n",
    "&\\text{subject to} && \\mathbf{x} \\le \\mathbf{b}, \\\\\n",
    "& && \\mathbf{1}^T \\mathbf{x} \\le a, \\\\\n",
    "& && \\mathbf{x} \\le M \\mathbf{y}, \\\\\n",
    "& && \\mathbf{1}^T \\mathbf{y} \\le 1,\n",
    "\\end{align}\n",
    "$$\n",
    "where $\\mathbf{x} \\in \\mathbb{R}^2$ and $\\mathbf{y} \\in \\{0,1\\}^2$ are the continuous and binary optimization variables. The parameters include $\\mathbf{p}$, $\\mathbf{b}$, and $a$.\n"
   ]
  },
  {
   "cell_type": "markdown",
   "metadata": {},
   "source": [
    "# Data generation"
   ]
  },
  {
   "cell_type": "code",
   "execution_count": 2,
   "metadata": {},
   "outputs": [],
   "source": [
    "nx = 2 #  number of continuous decision variables\n",
    "ny = 2 #  number of integer decision variables\n",
    "data_seed = 18 # random seed used for simulated data\n",
    "np.random.seed(data_seed)\n",
    "torch.manual_seed(data_seed)\n",
    "\n",
    "p_low, p_high = -30.0, 5.0 # linear term in the objective x.T*x + p.T*x\n",
    "b_low, b_high = 5.0, 25.0 # RHS of the constraint x <= b\n",
    "a_low, a_high = 10.0, 30.0 # RHS of the constraint 1.T*x <= a\n",
    "\n",
    "ntrain = 5000  # number of datapoints: increase sample density for more robust results\n",
    "ntest = 500 \n",
    "samples_train = {\"p\": torch.FloatTensor(ntrain, nx).uniform_(p_low, p_high),\n",
    "                \"b\": torch.FloatTensor(ntrain, nx).uniform_(b_low, b_high),\n",
    "                \"a\": torch.FloatTensor(ntrain, 1).uniform_(a_low, a_high),\n",
    "                }\n",
    "samples_dev = {\"p\": torch.FloatTensor(ntrain, nx).uniform_(p_low, p_high),\n",
    "                \"b\": torch.FloatTensor(ntrain, nx).uniform_(b_low, b_high),\n",
    "                \"a\": torch.FloatTensor(ntrain, 1).uniform_(a_low, a_high),\n",
    "                }\n",
    "samples_test = {\"p\": torch.FloatTensor(ntest, nx).uniform_(p_low, p_high),\n",
    "                \"b\": torch.FloatTensor(ntest, nx).uniform_(b_low, b_high),\n",
    "                \"a\": torch.FloatTensor(ntest, 1).uniform_(a_low, a_high),\n",
    "                }\n",
    "# create named dictionary datasets\n",
    "train_data = DictDataset(samples_train, name='train')\n",
    "dev_data = DictDataset(samples_dev, name='dev')\n",
    "test_data = DictDataset(samples_test, name='test')\n",
    "# create torch dataloaders for the Trainer\n",
    "train_loader = torch.utils.data.DataLoader(train_data, batch_size=32, num_workers=0,\n",
    "                                           collate_fn=train_data.collate_fn, shuffle=True)\n",
    "dev_loader = torch.utils.data.DataLoader(dev_data, batch_size=32, num_workers=0,\n",
    "                                         collate_fn=dev_data.collate_fn, shuffle=True)\n",
    "test_loader = torch.utils.data.DataLoader(test_data, batch_size=32, num_workers=0,\n",
    "                                         collate_fn=test_data.collate_fn, shuffle=True)\n"
   ]
  },
  {
   "cell_type": "markdown",
   "metadata": {},
   "source": [
    "# MLP block with Straight-Through Estimator (STE) for rounding"
   ]
  },
  {
   "cell_type": "code",
   "execution_count": 3,
   "metadata": {},
   "outputs": [],
   "source": [
    "from neuromancer.modules.blocks import Block, MLP\n",
    "import neuromancer.slim as slim\n",
    "from neuromancer.modules.activations import soft_exp, SoftExponential, SmoothedReLU\n",
    "\n",
    "# STE_Round operator; see https://arxiv.org/pdf/1308.3432\n",
    "class STE_Round(torch.autograd.Function):\n",
    "    @staticmethod\n",
    "    def forward(ctx, x):\n",
    "        return torch.round(x)\n",
    "\n",
    "    @staticmethod\n",
    "    def backward(ctx, grad_output):\n",
    "        return grad_output\n",
    "\n",
    "class MLPWithSTE(Block):\n",
    "    \"\"\"\n",
    "    Multi-Layer Perceptron consistent with blocks interface\n",
    "    Using STE_Round operator defined above for the classifier\n",
    "    \"\"\"\n",
    "    def __init__(\n",
    "        self,\n",
    "        insize,\n",
    "        outsize,\n",
    "        bias=True,\n",
    "        linear_map=slim.Linear,\n",
    "        nonlin=SoftExponential,\n",
    "        hsizes=[64],\n",
    "        linargs=dict(),\n",
    "    ):\n",
    "        \"\"\"\n",
    "        :param insize: (int) dimensionality of input\n",
    "        :param outsize: (int) dimensionality of output\n",
    "        :param bias: (bool) Whether to use bias\n",
    "        :param linear_map: (class) Linear map class from neuromancer.slim.linear\n",
    "        :param nonlin: (callable) Elementwise nonlinearity which takes as input torch.Tensor and outputs torch.Tensor of same shape\n",
    "        :param hsizes: (list of ints) List of hidden layer sizes\n",
    "        :param linargs: (dict) Arguments for instantiating linear layer\n",
    "        :param dropout: (float) Dropout probability\n",
    "        \"\"\"\n",
    "        super().__init__()\n",
    "        self.in_features, self.out_features = insize, outsize\n",
    "        self.nhidden = len(hsizes)\n",
    "        sizes = [insize] + hsizes + [outsize]\n",
    "        self.nonlin = nn.ModuleList(\n",
    "            [nonlin() for k in range(self.nhidden)] + [nn.Identity()]\n",
    "        )\n",
    "        self.linear = nn.ModuleList(\n",
    "            [\n",
    "                linear_map(sizes[k], sizes[k + 1], bias=bias, **linargs)\n",
    "                for k in range(self.nhidden + 1)\n",
    "            ]\n",
    "        )\n",
    "\n",
    "    def reg_error(self):\n",
    "        return sum([k.reg_error() for k in self.linear if hasattr(k, \"reg_error\")])\n",
    "\n",
    "    def block_eval(self, x):\n",
    "        \"\"\"\n",
    "        :param x: (torch.Tensor, shape=[batchsize, insize])\n",
    "        :return: (torch.Tensor, shape=[batchsize, outsize])\n",
    "        \"\"\"\n",
    "        for lin, nlin in zip(self.linear, self.nonlin):\n",
    "            x = nlin(lin(x))\n",
    "        probs = torch.sigmoid(x)\n",
    "        hard_output = STE_Round.apply(probs)\n",
    "        return hard_output"
   ]
  },
  {
   "cell_type": "markdown",
   "metadata": {},
   "source": [
    "# Using CVXPY projection layer\n",
    "\n",
    "We utilize 2 separate MLP networks for learning x and y. The outputs of MLPs go through a CVXPY projection layer to guarantee linear constraints.\n"
   ]
  },
  {
   "cell_type": "code",
   "execution_count": 4,
   "metadata": {},
   "outputs": [],
   "source": [
    "# mapping problem parameters to integer decision variables\n",
    "# input size should be for concatenated vector of p, b, a\n",
    "int_func = MLPWithSTE(insize=2*nx+1, outsize=ny,\n",
    "                bias=True,\n",
    "                linear_map=torch.nn.Linear,\n",
    "                nonlin=nn.ReLU,\n",
    "                hsizes=[128] * 4)\n",
    "int_sol_map = Node(int_func, ['p', 'b', 'a'], ['y'], name='int_map')"
   ]
  },
  {
   "cell_type": "code",
   "execution_count": 5,
   "metadata": {},
   "outputs": [],
   "source": [
    "# mapping problem parameters to continuous decision variables\n",
    "# input size should be for concatenated vector of p, b, a\n",
    "cont_func = MLP(insize=2*nx+1, outsize=nx,\n",
    "                bias=True,\n",
    "                linear_map=torch.nn.Linear,\n",
    "                nonlin=nn.ReLU,\n",
    "                hsizes=[128] * 4)\n",
    "cont_sol_map = Node(cont_func, ['p', 'b', 'a'], ['x'], name='cont_map')"
   ]
  },
  {
   "cell_type": "code",
   "execution_count": 6,
   "metadata": {},
   "outputs": [],
   "source": [
    "# Continuous variables\n",
    "x = variable(\"x\")\n",
    "x1 = x[:, [0]]; x2 = x[:, [1]] \n",
    "# Binary variables\n",
    "y = variable(\"y\")\n",
    "y1 = y[:, [0]]; y2 = y[:, [1]] \n",
    "\n",
    "# problem parameters sampled in the dataset\n",
    "p1 = variable('p')[:, [0]]; p2 = variable('p')[:, [1]] # ; b3 = variable('b')[:, [2]]; b4 = variable('b')[:, [3]]\n",
    "a = variable('a')\n",
    "\n",
    "f = (x1+p1/2)**2 + (x2+p2/2)**2\n",
    "obj = f.minimize(weight=1.0, name='obj')\n",
    "\n",
    "bigM = 1e3\n",
    "Q_con = 1e3\n",
    "g1 =  y1 + y2 - 1.0 \n",
    "con_1 = Q_con * (g1 <= 0)\n",
    "con_1.name = 'c1'\n",
    "\n",
    "constraints = [con_1]"
   ]
  },
  {
   "cell_type": "code",
   "execution_count": 7,
   "metadata": {},
   "outputs": [],
   "source": [
    "y_net = cp.Parameter(ny) # binary decision from neural net\n",
    "x_net = cp.Parameter(nx) # continuouis decision from neural net\n",
    "x_cvxpy = cp.Variable(ny) # cvxpy decision variable\n",
    "A_cvxpy = np.vstack([np.eye(nx), np.ones((1,nx))])\n",
    "b_cvxpy = cp.Parameter(nx)\n",
    "a_cvxpy = cp.Parameter(1)\n",
    "\n",
    "# projection problem formulation\n",
    "cvxpy_obj = cp.Minimize(1.0 * cp.sum_squares(x_cvxpy - x_net))\n",
    "cvxpy_cons = [x_cvxpy@A_cvxpy.T <= cp.hstack([b_cvxpy, a_cvxpy]), \\\n",
    "              x_cvxpy <= bigM*y_net]\n",
    "cvxpy_prob = cp.Problem(cvxpy_obj, cvxpy_cons)\n",
    "# cvxpy layer\n",
    "cvxpy_layer = CvxpyLayer(cvxpy_prob,\n",
    "                   parameters=[b_cvxpy, a_cvxpy, y_net, x_net],\n",
    "                   variables=[x_cvxpy])\n",
    "# symbolic wrapper: sol_map(bparam, xy) -> xy\n",
    "project = Node(cvxpy_layer, ['b', 'a', 'y', 'x'], ['x_cvx'], name='qp')"
   ]
  },
  {
   "cell_type": "code",
   "execution_count": 8,
   "metadata": {},
   "outputs": [],
   "source": [
    "# corrected variable by the cvxpy layer\n",
    "x_cvx = variable(\"x_cvx\")\n",
    "# cvxpy-supervised loss for the neural net\n",
    "residual = torch.abs(x - x_cvx)\n",
    "cvxp_loss = 1.*(residual == 0)"
   ]
  },
  {
   "cell_type": "code",
   "execution_count": 9,
   "metadata": {},
   "outputs": [
    {
     "data": {
      "image/png": "[encoded data removed]",
      "text/plain": [
       "<Figure size 640x480 with 1 Axes>"
      ]
     },
     "metadata": {},
     "output_type": "display_data"
    }
   ],
   "source": [
    "# constrained optimization problem construction\n",
    "nodes = [int_sol_map, cont_sol_map, project]\n",
    "objectives = [obj, cvxp_loss]\n",
    "\n",
    "# create penalty method loss function\n",
    "loss = PenaltyLoss(objectives, constraints)\n",
    "# construct constrained optimization problem\n",
    "problem = Problem(nodes, loss)\n",
    "# plot computational graph\n",
    "problem.show()"
   ]
  },
  {
   "cell_type": "code",
   "execution_count": 12,
   "metadata": {},
   "outputs": [],
   "source": [
    "lr = 1e-4      # step size for gradient descent\n",
    "epochs = 10    # number of training epochs\n",
    "warmup = 10    # number of epochs to wait before enacting early stopping policy\n",
    "patience = 10  # number of epochs with no improvement in eval metric to allow before early stopping"
   ]
  },
  {
   "cell_type": "code",
   "execution_count": 13,
   "metadata": {},
   "outputs": [],
   "source": [
    "optimizer = torch.optim.AdamW(problem.parameters(), lr=lr)\n",
    "# define trainer\n",
    "trainer = Trainer(\n",
    "    problem,\n",
    "    train_loader,\n",
    "    dev_loader,\n",
    "    test_loader,\n",
    "    optimizer,\n",
    "    epochs=epochs,\n",
    "    patience=patience,\n",
    "    warmup=warmup,\n",
    "    train_metric=\"train_loss\",\n",
    "    dev_metric=\"dev_loss\",\n",
    "    test_metric=\"test_loss\",\n",
    "    eval_metric=\"dev_loss\",\n",
    ")"
   ]
  },
  {
   "cell_type": "code",
   "execution_count": 14,
   "metadata": {},
   "outputs": [
    {
     "name": "stderr",
     "output_type": "stream",
     "text": [
      "/home/vietanhle/github/phdenv/lib/python3.10/site-packages/neuromancer/constraint.py:169: UserWarning: Using a target size (torch.Size([])) that is different to the input size (torch.Size([32, 2])). This will likely lead to incorrect results due to broadcasting. Please ensure they have the same size.\n",
      "  loss = F.l1_loss(left, right)\n",
      "/home/vietanhle/github/phdenv/lib/python3.10/site-packages/neuromancer/constraint.py:169: UserWarning: Using a target size (torch.Size([])) that is different to the input size (torch.Size([8, 2])). This will likely lead to incorrect results due to broadcasting. Please ensure they have the same size.\n",
      "  loss = F.l1_loss(left, right)\n"
     ]
    },
    {
     "name": "stdout",
     "output_type": "stream",
     "text": [
      "epoch: 0  train_loss: 297.9198303222656\n",
      "epoch: 1  train_loss: 222.70364379882812\n",
      "epoch: 2  train_loss: 192.20901489257812\n",
      "epoch: 3  train_loss: 209.87254333496094\n",
      "epoch: 4  train_loss: 195.03250122070312\n",
      "epoch: 5  train_loss: 188.31564331054688\n",
      "epoch: 6  train_loss: 208.15139770507812\n",
      "epoch: 7  train_loss: 209.99305725097656\n",
      "epoch: 8  train_loss: 224.42984008789062\n",
      "epoch: 9  train_loss: 202.1628875732422\n"
     ]
    },
    {
     "name": "stderr",
     "output_type": "stream",
     "text": [
      "/home/vietanhle/github/phdenv/lib/python3.10/site-packages/neuromancer/constraint.py:169: UserWarning: Using a target size (torch.Size([])) that is different to the input size (torch.Size([20, 2])). This will likely lead to incorrect results due to broadcasting. Please ensure they have the same size.\n",
      "  loss = F.l1_loss(left, right)\n"
     ]
    },
    {
     "data": {
      "text/plain": [
       "<All keys matched successfully>"
      ]
     },
     "execution_count": 14,
     "metadata": {},
     "output_type": "execute_result"
    }
   ],
   "source": [
    "# Train NLP solution map\n",
    "best_model = trainer.train()\n",
    "best_outputs = trainer.test(best_model)\n",
    "# load best model dict\n",
    "problem.load_state_dict(best_model)"
   ]
  },
  {
   "cell_type": "markdown",
   "metadata": {},
   "source": [
    "### A single test case"
   ]
  },
  {
   "cell_type": "code",
   "execution_count": 15,
   "metadata": {},
   "outputs": [
    {
     "name": "stdout",
     "output_type": "stream",
     "text": [
      "[-7.5449891e-05  5.6915402e+00] [0. 1.]\n"
     ]
    },
    {
     "name": "stderr",
     "output_type": "stream",
     "text": [
      "/home/vietanhle/github/phdenv/lib/python3.10/site-packages/neuromancer/constraint.py:169: UserWarning: Using a target size (torch.Size([])) that is different to the input size (torch.Size([1, 2])). This will likely lead to incorrect results due to broadcasting. Please ensure they have the same size.\n",
      "  loss = F.l1_loss(left, right)\n"
     ]
    }
   ],
   "source": [
    "# Test case\n",
    "# Solution from Neuromancer\n",
    "a = [15.0]; b = [12.0, 15.0]; p = [-20.0, -12.0]\n",
    "datapoint = {'a': torch.tensor([a]), 'b': torch.tensor([b]), 'p': torch.tensor([p]),\n",
    "             'name': 'test'}\n",
    "model_out = problem(datapoint)\n",
    "x_nm = model_out['test_' + \"x_cvx\"][0].detach().numpy()\n",
    "y_nm = model_out['test_' + \"y\"][0].detach().numpy()\n",
    "print(x_nm, y_nm)\n"
   ]
  },
  {
   "cell_type": "code",
   "execution_count": 16,
   "metadata": {},
   "outputs": [
    {
     "name": "stdout",
     "output_type": "stream",
     "text": [
      "Set parameter Username\n",
      "Academic license - for non-commercial use only - expires 2025-05-27\n",
      "(array([10.,  0.]), array([1., 0.]))\n"
     ]
    }
   ],
   "source": [
    "# Baseline Solution of the MIQP problem with GUROBI.\n",
    "def MIQP_param(p, b, a):\n",
    "    # Variables\n",
    "    x = cp.Variable(nx)\n",
    "    y = cp.Variable(ny, boolean=True)  # declare binary variables\n",
    "\n",
    "    # Objective and constraints\n",
    "    objective = cp.Minimize(cp.sum_squares((x + np.array(p)/2)))\n",
    "    constraints = [\n",
    "        x <= np.array(b),\n",
    "        cp.sum(x) <= a,\n",
    "        cp.sum(y) <= 1,\n",
    "        x <= bigM * y\n",
    "    ]\n",
    "\n",
    "    # Problem definition\n",
    "    prob = cp.Problem(objective, constraints)\n",
    "\n",
    "    # Solve with Gurobi\n",
    "    prob.solve(solver=cp.GUROBI, verbose=False)\n",
    "\n",
    "    return x.value, y.value\n",
    "\n",
    "print(MIQP_param(p, b, a))"
   ]
  },
  {
   "cell_type": "markdown",
   "metadata": {},
   "source": [
    "# Test with dataset\n",
    "\n",
    "It seems the trained model may produce feasible but highly sub-optimal solutions. "
   ]
  },
  {
   "cell_type": "code",
   "execution_count": 17,
   "metadata": {},
   "outputs": [
    {
     "name": "stderr",
     "output_type": "stream",
     "text": [
      "/home/vietanhle/github/phdenv/lib/python3.10/site-packages/neuromancer/constraint.py:169: UserWarning: Using a target size (torch.Size([])) that is different to the input size (torch.Size([500, 2])). This will likely lead to incorrect results due to broadcasting. Please ensure they have the same size.\n",
      "  loss = F.l1_loss(left, right)\n"
     ]
    }
   ],
   "source": [
    "\"\"\"\n",
    "Benchmark Solution\n",
    "\"\"\"\n",
    "def eval_constraints(x, y, b, a):\n",
    "    \"\"\"\n",
    "    evaluate mean constraints violations\n",
    "    \"\"\"\n",
    "    con_1_viol = np.maximum(0, y[0] + y[1] - 1.0)\n",
    "    con_2_viol = np.maximum(0, x[0] - b[0])\n",
    "    con_3_viol = np.maximum(0, x[1] - b[1])\n",
    "    con_4_viol = np.maximum(0, x[0] + x[1] - a)\n",
    "    con_5_viol = np.maximum(0, x[0] - bigM*y[0])\n",
    "    con_6_viol = np.maximum(0, x[1] - bigM*y[1])\n",
    "\n",
    "    con_viol = con_1_viol + con_2_viol + con_3_viol + con_4_viol  + con_5_viol + con_6_viol\n",
    "    \n",
    "    return con_viol\n",
    "\n",
    "def eval_objective(x, y, p):\n",
    "    obj_value = np.sum((x+p/2)**2)\n",
    "    return obj_value\n",
    "\n",
    "# Solve via neuromancer\n",
    "samples_test['name'] = 'test'\n",
    "model_out = problem(samples_test)\n",
    "x_nm = model_out['test_' + \"x_cvx\"].detach().numpy()\n",
    "y_nm = model_out['test_' + \"y\"].detach().numpy()\n",
    "\n",
    "# Solve via solver\n",
    "x_solver, y_solver = [], []\n",
    "for i in range(0, ntest):\n",
    "    p_test = samples_test['p'][i].detach().numpy()\n",
    "    b_test = samples_test['b'][i].detach().numpy()\n",
    "    a_test = samples_test['a'][i].detach().numpy()\n",
    "\n",
    "    x_sol, y_sol = MIQP_param(p_test, b_test, a_test)\n",
    "    x_solver.append(x_sol)\n",
    "    y_solver.append(y_sol)\n",
    "\n",
    "x_grb = np.asarray(x_solver)\n",
    "y_grb = np.asarray(y_solver)"
   ]
  },
  {
   "cell_type": "code",
   "execution_count": 18,
   "metadata": {},
   "outputs": [
    {
     "name": "stdout",
     "output_type": "stream",
     "text": [
      "Neuromancer mean constraints violation 0.0061\n",
      "Neuromancer mean cost 73.8405\n",
      "GUROBI mean constraints violation 0.0000\n",
      "GUROBI mean cost 32.1257\n"
     ]
    }
   ],
   "source": [
    "# Evaluate neuromancer solution\n",
    "nm_violation = []\n",
    "grb_violation = []\n",
    "nm_cost = []\n",
    "grb_cost = []\n",
    "\n",
    "for i in range(ntest):\n",
    "    p_test = samples_test['p'][i].detach().numpy()\n",
    "    b_test = samples_test['b'][i].detach().numpy()\n",
    "    a_test = samples_test['a'][i].detach().numpy()\n",
    "    nm_violation.append(eval_constraints(x_nm[i,:], y_nm[i,:], b_test, a_test))\n",
    "    grb_violation.append(eval_constraints(x_grb[i,:], y_grb[i,:], b_test, a_test))\n",
    "\n",
    "    nm_cost.append(eval_objective(x_nm[i,:], y_nm[i,:], p_test))\n",
    "    grb_cost.append(eval_objective(x_grb[i,:], y_grb[i,:], p_test))\n",
    "\n",
    "print(f'Neuromancer mean constraints violation {np.mean(nm_violation):.4f}')\n",
    "print(f'Neuromancer mean cost {np.mean(nm_cost):.4f}')\n",
    "\n",
    "\n",
    "print(f'GUROBI mean constraints violation {np.mean(grb_violation):.4f}')\n",
    "print(f'GUROBI mean cost {np.mean(grb_cost):.4f}')\n",
    "\n"
   ]
  },
  {
   "cell_type": "code",
   "execution_count": null,
   "metadata": {},
   "outputs": [],
   "source": []
  },
  {
   "cell_type": "code",
   "execution_count": null,
   "metadata": {},
   "outputs": [],
   "source": []
  }
 ],
 "metadata": {
  "kernelspec": {
   "display_name": "phdenv",
   "language": "python",
   "name": "python3"
  },
  "language_info": {
   "codemirror_mode": {
    "name": "ipython",
    "version": 3
   },
   "file_extension": ".py",
   "mimetype": "text/x-python",
   "name": "python",
   "nbconvert_exporter": "python",
   "pygments_lexer": "ipython3",
   "version": "3.10.12"
  }
 },
 "nbformat": 4,
 "nbformat_minor": 2
}
